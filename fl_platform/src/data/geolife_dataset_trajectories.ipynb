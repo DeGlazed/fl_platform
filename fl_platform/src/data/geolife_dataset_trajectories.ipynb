{
 "cells": [
  {
   "cell_type": "code",
   "execution_count": 1,
   "id": "57b4e3e4",
   "metadata": {},
   "outputs": [],
   "source": [
    "import sys\n",
    "import os\n",
    "from pathlib import Path\n",
    "import pandas as pd\n",
    "\n",
    "import matplotlib.pyplot as plt\n",
    "import seaborn as sns\n",
    "\n",
    "from datetime import datetime\n",
    "import torch\n",
    "from io import BytesIO\n",
    "from zipfile import ZipFile\n",
    "from urllib.request import urlopen\n",
    "from tqdm.auto import tqdm\n",
    "import numpy as np\n",
    "\n",
    "import shutil"
   ]
  },
  {
   "cell_type": "code",
   "execution_count": 2,
   "id": "87af4585",
   "metadata": {},
   "outputs": [],
   "source": [
    "RAW_DATA_DIR = \"raw/geolife\"\n",
    "PROCESSED_DATA_DIR = \"processed\"\n",
    "data = Path(RAW_DATA_DIR) / \"Geolife Trajectories 1.3\" / \"RawData\""
   ]
  },
  {
   "cell_type": "code",
   "execution_count": 6,
   "id": "aa34e63d",
   "metadata": {},
   "outputs": [],
   "source": [
    "participants = sorted(data.iterdir())\n",
    "\n",
    "# for idx, participant_folder in enumerate(participants, start=1):\n",
    "#     new_name = data / f\"old_{idx}\"\n",
    "#     participant_folder.rename(new_name)\n",
    "\n",
    "for idx, participant_folder in enumerate(participants, start=1):\n",
    "    new_name = data / f\"{idx}\"\n",
    "    participant_folder.rename(new_name)"
   ]
  }
 ],
 "metadata": {
  "kernelspec": {
   "display_name": "fl",
   "language": "python",
   "name": "python3"
  },
  "language_info": {
   "codemirror_mode": {
    "name": "ipython",
    "version": 3
   },
   "file_extension": ".py",
   "mimetype": "text/x-python",
   "name": "python",
   "nbconvert_exporter": "python",
   "pygments_lexer": "ipython3",
   "version": "3.11.9"
  }
 },
 "nbformat": 4,
 "nbformat_minor": 5
}
