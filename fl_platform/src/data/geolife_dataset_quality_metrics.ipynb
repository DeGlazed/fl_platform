{
 "cells": [
  {
   "cell_type": "code",
   "execution_count": 1,
   "id": "ba6f7caa",
   "metadata": {},
   "outputs": [
    {
     "name": "stdout",
     "output_type": "stream",
     "text": [
      "Participant: 1, Label: 0_bus\n",
      "<class 'pandas.core.frame.DataFrame'>\n",
      "RangeIndex: 72 entries, 0 to 71\n",
      "Data columns (total 4 columns):\n",
      " #   Column     Non-Null Count  Dtype         \n",
      "---  ------     --------------  -----         \n",
      " 0   latitude   72 non-null     float64       \n",
      " 1   longitude  72 non-null     float64       \n",
      " 2   date_time  72 non-null     datetime64[ns]\n",
      " 3   timestamp  72 non-null     float64       \n",
      "dtypes: datetime64[ns](1), float64(3)\n",
      "memory usage: 2.4 KB\n",
      "None\n",
      "    latitude   longitude           date_time     timestamp\n",
      "0  39.975133  116.329467 2007-06-27 09:49:22  1.182938e+09\n",
      "1  39.975250  116.329067 2007-06-27 09:50:07  1.182938e+09\n",
      "2  39.975267  116.329283 2007-06-27 09:50:11  1.182938e+09\n",
      "3  39.975250  116.329417 2007-06-27 09:50:33  1.182938e+09\n",
      "4  39.975283  116.330033 2007-06-27 09:51:58  1.182938e+09\n"
     ]
    }
   ],
   "source": [
    "# Load data from the processed data file\n",
    "import pickle\n",
    "import os\n",
    "import pandas as pd\n",
    "\n",
    "PROCESSED_DATA_DIR = \"processed\"\n",
    "GEOLIFE_DATA = {}\n",
    "\n",
    "with open(os.path.join(PROCESSED_DATA_DIR, 'geolife_processed_data.pkl'), 'rb') as f:\n",
    "    GEOLIFE_DATA = pickle.load(f)\n",
    "\n",
    "\n",
    "for participant, dataframes in GEOLIFE_DATA.items():\n",
    "    for label, df in dataframes.items():\n",
    "        print(f\"Participant: {participant}, Label: {label}\")\n",
    "        print(df.info())\n",
    "        print(df.head())\n",
    "        break\n",
    "    break"
   ]
  },
  {
   "cell_type": "code",
   "execution_count": 2,
   "id": "8685e4c1",
   "metadata": {},
   "outputs": [],
   "source": [
    "from dataset import GeoLifeMobilityDataset\n",
    "import numpy as np\n",
    "from torch.utils.data import Dataset, Subset, DataLoader\n"
   ]
  },
  {
   "cell_type": "code",
   "execution_count": 3,
   "id": "53804d14",
   "metadata": {},
   "outputs": [],
   "source": [
    "def generate_indeces_split(total_data_len, num_clients, mean=None, std=None, seed=42):\n",
    "    np.random.seed(seed)\n",
    "    mean = mean or total_data_len / num_clients\n",
    "    std = std or total_data_len / (num_clients * 2)\n",
    "\n",
    "    random_normal_samples = np.random.normal(mean, std, num_clients)\n",
    "    non_negative_random_normal_samples = np.maximum(random_normal_samples, 1).astype(int)\n",
    "    normalized_samples = (non_negative_random_normal_samples / np.sum(non_negative_random_normal_samples) * total_data_len).astype(int)\n",
    "\n",
    "    if(normalized_samples.sum() != total_data_len):\n",
    "        diff = total_data_len - normalized_samples.sum()\n",
    "        random_index = np.random.randint(0, num_clients)\n",
    "        normalized_samples[random_index] += diff\n",
    "\n",
    "    randomized_data_idx = np.random.permutation(total_data_len)\n",
    "\n",
    "    data_split = []\n",
    "    start_index = 0\n",
    "    for sample in normalized_samples:\n",
    "        end_index = start_index + sample\n",
    "        data_split.append(randomized_data_idx[start_index:end_index])\n",
    "        start_index = end_index\n",
    "\n",
    "    return data_split\n",
    "\n",
    "def get_client_dataset_split_following_normal_distribution(client_idx, num_clients, dataset, mean=None, std=None, seed=42):\n",
    "    data_split = generate_indeces_split(len(dataset), num_clients, mean, std, seed)\n",
    "    client_data_indices = data_split[client_idx]\n",
    "    client_dataset = Subset(dataset, client_data_indices)\n",
    "    return client_dataset"
   ]
  },
  {
   "cell_type": "code",
   "execution_count": 4,
   "id": "e103e8f5",
   "metadata": {},
   "outputs": [],
   "source": [
    "filter_geo_dataset = {}\n",
    "for client_id, data in GEOLIFE_DATA.items():\n",
    "    filtered_data_dict = {}\n",
    "    for lable, df in data.items():\n",
    "        if 'run' not in lable and 'motorcycle' not in lable:\n",
    "            filtered_data_dict[lable] = df\n",
    "    filter_geo_dataset[client_id] = filtered_data_dict\n",
    "GEOLIFE_DATA = filter_geo_dataset\n",
    "                \n",
    "labels = ['walk', 'bus', 'car', 'taxi', 'subway', 'train', 'bike'] #removed 'run' and 'motorcycle'\n",
    "sorted_labels = sorted(labels)\n",
    "label_mapping = {label: idx for idx, label in enumerate(sorted_labels)}"
   ]
  },
  {
   "cell_type": "code",
   "execution_count": 5,
   "id": "21af9bc6",
   "metadata": {},
   "outputs": [
    {
     "name": "stdout",
     "output_type": "stream",
     "text": [
      "<function GeoLifeMobilityDataset.default_data_extractor at 0x00000204A671BA60>\n"
     ]
    }
   ],
   "source": [
    "selected_clients = list(range(1, 65))\n",
    "\n",
    "dataset = GeoLifeMobilityDataset(GEOLIFE_DATA, selected_clients, label_mapping,\n",
    "    # feature_extractor=GeoLifeMobilityDataset.rich_extractor\n",
    ")\n",
    "print(dataset.feature_extractor)"
   ]
  },
  {
   "cell_type": "code",
   "execution_count": 6,
   "id": "dd64026a",
   "metadata": {},
   "outputs": [],
   "source": [
    "partition_id = 0\n",
    "num_partitions = 1"
   ]
  },
  {
   "cell_type": "code",
   "execution_count": 7,
   "id": "e6443bda",
   "metadata": {},
   "outputs": [],
   "source": [
    "client_dataset = get_client_dataset_split_following_normal_distribution(partition_id, num_partitions, dataset)"
   ]
  },
  {
   "cell_type": "code",
   "execution_count": 8,
   "id": "9e2ed243",
   "metadata": {},
   "outputs": [
    {
     "name": "stdout",
     "output_type": "stream",
     "text": [
      "Total number of samples in client dataset: 9254\n",
      "\n",
      "Label distribution:\n",
      "subway: 581 samples (6.28%)\n",
      "walk: 3834 samples (41.43%)\n",
      "bike: 1562 samples (16.88%)\n",
      "bus: 1831 samples (19.79%)\n",
      "car: 779 samples (8.42%)\n",
      "taxi: 509 samples (5.50%)\n",
      "train: 158 samples (1.71%)\n"
     ]
    }
   ],
   "source": [
    "print(f\"Total number of samples in client dataset: {len(client_dataset)}\")\n",
    "\n",
    "label_counts = {}\n",
    "for i in range(len(client_dataset)):\n",
    "    _, label = client_dataset[i]\n",
    "    label_name = sorted_labels[label]\n",
    "    if label_name in label_counts:\n",
    "        label_counts[label_name] += 1\n",
    "    else:\n",
    "        label_counts[label_name] = 1\n",
    "\n",
    "print(\"\\nLabel distribution:\")\n",
    "for label, count in label_counts.items():\n",
    "    print(f\"{label}: {count} samples ({count/len(client_dataset)*100:.2f}%)\")"
   ]
  },
  {
   "cell_type": "code",
   "execution_count": 21,
   "id": "2b0b06f4",
   "metadata": {},
   "outputs": [],
   "source": [
    "def latlon_to_cell(lat, lon, cell_size_m=500):\n",
    "    # Approximate cell based on rounding coordinates to fixed lat/lon grid\n",
    "    lat_cell = int(lat * 111000 / cell_size_m)\n",
    "    lon_cell = int(lon * 85000 / cell_size_m)\n",
    "    return (lat_cell, lon_cell)"
   ]
  },
  {
   "cell_type": "code",
   "execution_count": null,
   "id": "f4c136f0",
   "metadata": {},
   "outputs": [],
   "source": [
    "def get_client_quality_statistics(partition_id, num_partitions, label_mapping, default_data_extractor_dataset, spatial_granularity_m=500):\n",
    "    client_dataset = get_client_dataset_split_following_normal_distribution(partition_id, num_partitions, default_data_extractor_dataset)\n",
    "    \n",
    "    labels = set()\n",
    "    spatial_cells = set()\n",
    "    time_slots = set()\n",
    "    sampling_regularity_stds = []\n",
    "    \n",
    "    for data_tensor, label_tensor in client_dataset:\n",
    "\n",
    "        label_name = [key for key, val in label_mapping.items() if val == label_tensor.item()][0]\n",
    "        labels.add(label_name)\n",
    "\n",
    "        # First two columns are lat, lon\n",
    "        coords = data_tensor[:, :2]\n",
    "        for lat, lon in coords:\n",
    "            spatial_cells.add(latlon_to_cell(lat.item(), lon.item(), spatial_granularity_m))\n",
    "\n",
    "        # Third column is timestamp\n",
    "        timestamps = data_tensor[:, 2]\n",
    "        for ts in timestamps:\n",
    "            ts_datetime = pd.to_datetime(ts.item(), unit='s')\n",
    "            time_slots.add((ts_datetime.hour, ts_datetime.weekday()))\n",
    "        \n",
    "        time_diffs = []\n",
    "        for i in range(1, len(timestamps)):\n",
    "            time_diffs.append(abs(timestamps[i].item() - timestamps[i-1].item()))\n",
    "        \n",
    "        std_dev = np.std(time_diffs)\n",
    "        sampling_regularity_stds.append(std_dev)\n",
    "\n",
    "    return {\n",
    "        \"label_diversity\": len(labels),\n",
    "        \"spatial_diversity\": len(spatial_cells),\n",
    "        \"temporal_diversity\": len(time_slots),\n",
    "        \"sampling_regularity_std\": 1/(np.median(sampling_regularity_stds) + 1e-8) #To not dedvide by 0 if there is such case,\n",
    "    }"
   ]
  },
  {
   "cell_type": "code",
   "execution_count": 32,
   "id": "a4bdee48",
   "metadata": {},
   "outputs": [
    {
     "name": "stdout",
     "output_type": "stream",
     "text": [
      "{'label_diversity': 7, 'spatial_diversity': 15566, 'temporal_diversity': 156, 'sampling_regularity_std': 0.04675872400696376}\n",
      "{'label_diversity': 7, 'spatial_diversity': 13779, 'temporal_diversity': 147, 'sampling_regularity_std': 0.04757550756199304}\n",
      "{'label_diversity': 7, 'spatial_diversity': 14661, 'temporal_diversity': 151, 'sampling_regularity_std': 0.04753992680587862}\n"
     ]
    },
    {
     "ename": "KeyboardInterrupt",
     "evalue": "",
     "output_type": "error",
     "traceback": [
      "\u001b[1;31m---------------------------------------------------------------------------\u001b[0m",
      "\u001b[1;31mKeyboardInterrupt\u001b[0m                         Traceback (most recent call last)",
      "Cell \u001b[1;32mIn[32], line 7\u001b[0m\n\u001b[0;32m      3\u001b[0m results \u001b[38;5;241m=\u001b[39m {}\n\u001b[0;32m      5\u001b[0m \u001b[38;5;28;01mfor\u001b[39;00m partition_id \u001b[38;5;129;01min\u001b[39;00m \u001b[38;5;28mrange\u001b[39m(num_partitions):\n\u001b[1;32m----> 7\u001b[0m     results[partition_id] \u001b[38;5;241m=\u001b[39m \u001b[43mget_client_quality_statistics\u001b[49m\u001b[43m(\u001b[49m\n\u001b[0;32m      8\u001b[0m \u001b[43m        \u001b[49m\u001b[43mpartition_id\u001b[49m\u001b[43m,\u001b[49m\n\u001b[0;32m      9\u001b[0m \u001b[43m        \u001b[49m\u001b[43mnum_partitions\u001b[49m\u001b[43m,\u001b[49m\n\u001b[0;32m     10\u001b[0m \u001b[43m        \u001b[49m\u001b[43mlabel_mapping\u001b[49m\u001b[43m,\u001b[49m\n\u001b[0;32m     11\u001b[0m \u001b[43m        \u001b[49m\u001b[43mdataset\u001b[49m\n\u001b[0;32m     12\u001b[0m \u001b[43m    \u001b[49m\u001b[43m)\u001b[49m\n\u001b[0;32m     13\u001b[0m     \u001b[38;5;28mprint\u001b[39m(results[partition_id])\n",
      "Cell \u001b[1;32mIn[31], line 22\u001b[0m, in \u001b[0;36mget_client_quality_statistics\u001b[1;34m(partition_id, num_partitions, label_mapping, default_data_extractor_dataset, spatial_granularity_m)\u001b[0m\n\u001b[0;32m     20\u001b[0m timestamps \u001b[38;5;241m=\u001b[39m data_tensor[:, \u001b[38;5;241m2\u001b[39m]\n\u001b[0;32m     21\u001b[0m \u001b[38;5;28;01mfor\u001b[39;00m ts \u001b[38;5;129;01min\u001b[39;00m timestamps:\n\u001b[1;32m---> 22\u001b[0m     ts_datetime \u001b[38;5;241m=\u001b[39m pd\u001b[38;5;241m.\u001b[39mto_datetime(\u001b[43mts\u001b[49m\u001b[38;5;241;43m.\u001b[39;49m\u001b[43mitem\u001b[49m\u001b[43m(\u001b[49m\u001b[43m)\u001b[49m, unit\u001b[38;5;241m=\u001b[39m\u001b[38;5;124m'\u001b[39m\u001b[38;5;124ms\u001b[39m\u001b[38;5;124m'\u001b[39m)\n\u001b[0;32m     23\u001b[0m     time_slots\u001b[38;5;241m.\u001b[39madd((ts_datetime\u001b[38;5;241m.\u001b[39mhour, ts_datetime\u001b[38;5;241m.\u001b[39mweekday()))\n\u001b[0;32m     25\u001b[0m time_diffs \u001b[38;5;241m=\u001b[39m []\n",
      "\u001b[1;31mKeyboardInterrupt\u001b[0m: "
     ]
    }
   ],
   "source": [
    "num_partitions = 5\n",
    "\n",
    "results = {}\n",
    "\n",
    "for partition_id in range(num_partitions):\n",
    "\n",
    "    results[partition_id] = get_client_quality_statistics(\n",
    "        partition_id,\n",
    "        num_partitions,\n",
    "        label_mapping,\n",
    "        dataset\n",
    "    )\n",
    "    print(results[partition_id])\n",
    "\n"
   ]
  },
  {
   "cell_type": "code",
   "execution_count": 24,
   "id": "60f505f5",
   "metadata": {},
   "outputs": [
    {
     "name": "stdout",
     "output_type": "stream",
     "text": [
      "{0: {'label_diversity': 7, 'spatial_diversity': 15566, 'temporal_diversity': 156, 'sampling_regularity_std': 0.04675872400696376}, 1: {'label_diversity': 7, 'spatial_diversity': 13779, 'temporal_diversity': 147, 'sampling_regularity_std': 0.04757550756199304}, 2: {'label_diversity': 7, 'spatial_diversity': 14661, 'temporal_diversity': 151, 'sampling_regularity_std': 0.04753992680587862}, 3: {'label_diversity': 7, 'spatial_diversity': 16732, 'temporal_diversity': 164, 'sampling_regularity_std': 0.04812510017595744}, 4: {'label_diversity': 7, 'spatial_diversity': 16931, 'temporal_diversity': 161, 'sampling_regularity_std': 0.047274909728495164}}\n"
     ]
    }
   ],
   "source": [
    "print(results)"
   ]
  },
  {
   "cell_type": "code",
   "execution_count": 28,
   "id": "d45053bb",
   "metadata": {},
   "outputs": [
    {
     "name": "stdout",
     "output_type": "stream",
     "text": [
      "   label_diversity  spatial_diversity  temporal_diversity  \\\n",
      "0                7              15566                 156   \n",
      "1                7              13779                 147   \n",
      "2                7              14661                 151   \n",
      "3                7              16732                 164   \n",
      "4                7              16931                 161   \n",
      "\n",
      "   sampling_regularity_std     score  \n",
      "0                 0.046759  0.274088  \n",
      "1                 0.047576  0.149442  \n",
      "2                 0.047540  0.271711  \n",
      "3                 0.048125  0.734215  \n",
      "4                 0.047275  0.550326  \n",
      "0.14944229778592286\n"
     ]
    }
   ],
   "source": [
    "#Normalize results\n",
    "\n",
    "df = pd.DataFrame.from_dict(results, orient='index') #Make values as rows\n",
    "df_norm = (df - df.min()) / (df.max() - df.min() + 1e-8) #Normalize\n",
    "\n",
    "df[\"score\"] = ( 0.25 * df_norm[\"label_diversity\"] +\n",
    "                0.25 * df_norm[\"spatial_diversity\"] +\n",
    "                0.25 * df_norm[\"temporal_diversity\"] +\n",
    "                0.25 * df_norm[\"sampling_regularity_std\"])\n",
    "\n",
    "print(df)\n",
    "print(df[\"score\"].iloc[1])"
   ]
  }
 ],
 "metadata": {
  "kernelspec": {
   "display_name": "fl",
   "language": "python",
   "name": "python3"
  },
  "language_info": {
   "codemirror_mode": {
    "name": "ipython",
    "version": 3
   },
   "file_extension": ".py",
   "mimetype": "text/x-python",
   "name": "python",
   "nbconvert_exporter": "python",
   "pygments_lexer": "ipython3",
   "version": "3.11.9"
  }
 },
 "nbformat": 4,
 "nbformat_minor": 5
}
