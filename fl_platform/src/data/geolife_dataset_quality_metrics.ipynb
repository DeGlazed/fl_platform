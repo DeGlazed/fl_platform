{
 "cells": [
  {
   "cell_type": "code",
   "execution_count": 1,
   "id": "ba6f7caa",
   "metadata": {},
   "outputs": [
    {
     "name": "stdout",
     "output_type": "stream",
     "text": [
      "Participant: 1, Label: 0_bus\n",
      "<class 'pandas.core.frame.DataFrame'>\n",
      "RangeIndex: 72 entries, 0 to 71\n",
      "Data columns (total 4 columns):\n",
      " #   Column     Non-Null Count  Dtype         \n",
      "---  ------     --------------  -----         \n",
      " 0   latitude   72 non-null     float64       \n",
      " 1   longitude  72 non-null     float64       \n",
      " 2   date_time  72 non-null     datetime64[ns]\n",
      " 3   timestamp  72 non-null     float64       \n",
      "dtypes: datetime64[ns](1), float64(3)\n",
      "memory usage: 2.4 KB\n",
      "None\n",
      "    latitude   longitude           date_time     timestamp\n",
      "0  39.975133  116.329467 2007-06-27 09:49:22  1.182938e+09\n",
      "1  39.975250  116.329067 2007-06-27 09:50:07  1.182938e+09\n",
      "2  39.975267  116.329283 2007-06-27 09:50:11  1.182938e+09\n",
      "3  39.975250  116.329417 2007-06-27 09:50:33  1.182938e+09\n",
      "4  39.975283  116.330033 2007-06-27 09:51:58  1.182938e+09\n"
     ]
    }
   ],
   "source": [
    "# Load data from the processed data file\n",
    "import pickle\n",
    "import os\n",
    "import pandas as pd\n",
    "\n",
    "PROCESSED_DATA_DIR = \"processed\"\n",
    "LOADED_DATA = {}\n",
    "\n",
    "with open(os.path.join(PROCESSED_DATA_DIR, 'geolife_processed_data.pkl'), 'rb') as f:\n",
    "    LOADED_DATA = pickle.load(f)\n",
    "\n",
    "\n",
    "for participant, dataframes in LOADED_DATA.items():\n",
    "    for label, df in dataframes.items():\n",
    "        print(f\"Participant: {participant}, Label: {label}\")\n",
    "        print(df.info())\n",
    "        print(df.head())\n",
    "        break\n",
    "    break"
   ]
  },
  {
   "cell_type": "code",
   "execution_count": 2,
   "id": "8685e4c1",
   "metadata": {},
   "outputs": [],
   "source": [
    "from dataset import GeoLifeMobilityDataset"
   ]
  }
 ],
 "metadata": {
  "kernelspec": {
   "display_name": "fl",
   "language": "python",
   "name": "python3"
  },
  "language_info": {
   "codemirror_mode": {
    "name": "ipython",
    "version": 3
   },
   "file_extension": ".py",
   "mimetype": "text/x-python",
   "name": "python",
   "nbconvert_exporter": "python",
   "pygments_lexer": "ipython3",
   "version": "3.11.9"
  }
 },
 "nbformat": 4,
 "nbformat_minor": 5
}
